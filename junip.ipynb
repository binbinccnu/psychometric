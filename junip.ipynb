{
 "cells": [
  {
   "cell_type": "code",
   "execution_count": 37,
   "metadata": {
    "collapsed": true
   },
   "outputs": [
    {
     "name": "stdout",
     "output_type": "stream",
     "text": [
      "Optimization terminated successfully.\n         Current function value: 0.657450\n         Iterations 4\nOptimization terminated successfully.\n         Current function value: 0.656582\n         Iterations 4\nOptimization terminated successfully.\n         Current function value: 0.639613\n         Iterations 5\n"
     ]
    }
   ],
   "source": [
    "import statsmodels.api as sm\n",
    "import pandas as pd\n",
    "from CTT import examinee_score\n",
    "from scipy import stats\n",
    "stats.chisqprob = lambda chisq, df: stats.chi2.sf(chisq, df)\n",
    "chisqrprob = lambda chisq, df: stats.chi2.sf(chisq, df)\n",
    "\n",
    "df = pd.read_csv('/home/cfoster/Documents/projects/psychometrics/data/ref_focus.csv')\n",
    "\n",
    "def likelihood_ratio(llmin, llmax):\n",
    "    return(-2*(llmax-llmin))\n",
    "\n",
    "items = [\"i1\",\"i2\",\"i3\",\"i4\",\"i5\",\"i6\",\"i7\",\"i8\",\"i9\",\"i10\",\"i11\",\"i12\",\"i13\",\n",
    "         \"i14\",\"i15\",\"i16\",\"i17\",\"i18\",\"i19\",\"i20\",\"i21\",\"i22\",\"i23\",\"i24\",\"i25\",\"i26\",\"i27\",\"i28\",\"i29\",\"i30\"]\n",
    "\n",
    "df['total_score'] = examinee_score(df[items])\n",
    "df['total_group_int'] = df['total_score'] * df['group']\n",
    "\n",
    "\n",
    "\n",
    "y = df['i11']\n",
    "\n",
    "vars_for_log_diff = ['total_score']\n",
    "X = df[vars_for_log_diff]\n",
    "logit_model_1 = sm.Logit(y, X)\n",
    "result_1 = logit_model_1.fit()\n",
    "\n",
    "vars_for_log_diff = ['total_score', 'group']\n",
    "X = df[vars_for_log_diff]\n",
    "logit_model_2 = sm.Logit(y, X)\n",
    "result_2 = logit_model_2.fit()\n",
    "\n",
    "vars_for_log_diff = ['total_score', 'group', 'total_group_int']\n",
    "X = df[vars_for_log_diff]\n",
    "logit_model_3 = sm.Logit(y, X)\n",
    "result_3 = logit_model_3.fit()"
   ]
  },
  {
   "cell_type": "code",
   "execution_count": 38,
   "metadata": {
    "collapsed": false
   },
   "outputs": [
    {
     "name": "stdout",
     "output_type": "stream",
     "text": [
      "['__class__', '__delattr__', '__dict__', '__dir__', '__doc__', '__eq__', '__format__', '__ge__', '__getattribute__', '__getstate__', '__gt__', '__hash__', '__init__', '__le__', '__lt__', '__module__', '__ne__', '__new__', '__reduce__', '__reduce_ex__', '__repr__', '__setattr__', '__sizeof__', '__str__', '__subclasshook__', '__weakref__', '_cache', '_data_attr', '_get_endog_name', '_get_robustcov_results', 'aic', 'bic', 'bse', 'conf_int', 'cov_kwds', 'cov_params', 'cov_type', 'df_model', 'df_resid', 'f_test', 'fittedvalues', 'get_margeff', 'initialize', 'k_constant', 'llf', 'llnull', 'llr', 'llr_pvalue', 'load', 'mle_retvals', 'mle_settings', 'model', 'nobs', 'normalized_cov_params', 'params', 'pred_table', 'predict', 'prsquared', 'pvalues', 'remove_data', 'resid_dev', 'resid_generalized', 'resid_pearson', 'resid_response', 'save', 'scale', 'summary', 'summary2', 't_test', 'tvalues', 'use_t', 'wald_test', 'wald_test_terms']\nRSsquared change:  0.00128593868841\nPer Zumbo (1999): Small < .13, medium >= .13 or < .26 and large > .26\np: 0.176519599810089772295995658169\nNon Uniform RSsquared change:  0.0251512878503\nPer Zumbo (1999): Small < .13, medium >= .13 or < .26 and large > .26\n"
     ]
    }
   ],
   "source": [
    "print(dir(result))\n",
    "# print(result.summary())\n",
    "# print(result_1.summary())\n",
    "# print(result_1.prsquared)\n",
    "\n",
    "LR = likelihood_ratio(result_2.llf, result_1.llf)\n",
    "p = chisqrprob(LR, 2)# L2 has 1 DoF more than L1\n",
    "uni_rsq_ch = result_2.prsquared - result_1.prsquared\n",
    "print('RSsquared change: ', uni_rsq_ch)\n",
    "print('Per Zumbo (1999): Small < .13, medium >= .13 or < .26 and large > .26')\n",
    "print('p: %.30f' % p)\n",
    "\n",
    "LR = likelihood_ratio(result_3.llf, result_2.llf)\n",
    "p = chisqrprob(LR, 2)# L2 has 1 DoF more than L1\n",
    "\n",
    "nonuni_rsq_ch = result_3.prsquared - result_2.prsquared\n",
    "print('Non Uniform RSsquared change: ', nonuni_rsq_ch)\n",
    "print('Per Zumbo (1999): Small < .13, medium >= .13 or < .26 and large > .26')"
   ]
  }
 ],
 "metadata": {
  "kernelspec": {
   "display_name": "Python 2",
   "language": "python",
   "name": "python2"
  },
  "language_info": {
   "codemirror_mode": {
    "name": "ipython",
    "version": 2.0
   },
   "file_extension": ".py",
   "mimetype": "text/x-python",
   "name": "python",
   "nbconvert_exporter": "python",
   "pygments_lexer": "ipython2",
   "version": "2.7.6"
  }
 },
 "nbformat": 4,
 "nbformat_minor": 0
}